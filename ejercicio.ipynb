{
  "nbformat": 4,
  "nbformat_minor": 0,
  "metadata": {
    "colab": {
      "provenance": [],
      "authorship_tag": "ABX9TyMJBDlXqtT+/vc+qFsDvOxG",
      "include_colab_link": true
    },
    "kernelspec": {
      "name": "python3",
      "display_name": "Python 3"
    },
    "language_info": {
      "name": "python"
    }
  },
  "cells": [
    {
      "cell_type": "markdown",
      "metadata": {
        "id": "view-in-github",
        "colab_type": "text"
      },
      "source": [
        "<a href=\"https://colab.research.google.com/github/JuankJimnz78/Hola_Mundo/blob/rama1/ejercicio.ipynb\" target=\"_parent\"><img src=\"https://colab.research.google.com/assets/colab-badge.svg\" alt=\"Open In Colab\"/></a>"
      ]
    },
    {
      "cell_type": "code",
      "execution_count": null,
      "metadata": {
        "id": "kn3xu0xlm_K5"
      },
      "outputs": [],
      "source": [
        "calcula el iva\n"
      ]
    },
    {
      "cell_type": "code",
      "source": [
        "# prompt: calcula el iva\n",
        "\n",
        "def calcular_iva(precio, porcentaje_iva=21):\n",
        "  \"\"\"Calcula el IVA de un precio dado.\n",
        "\n",
        "  Args:\n",
        "    precio: El precio sin IVA.\n",
        "    porcentaje_iva: El porcentaje de IVA a aplicar (por defecto, 21%).\n",
        "\n",
        "  Returns:\n",
        "    El IVA calculado.\n",
        "  \"\"\"\n",
        "  iva = precio * (porcentaje_iva / 100)\n",
        "  return iva\n",
        "\n",
        "def calcular_precio_con_iva(precio, porcentaje_iva=21):\n",
        "  \"\"\"Calcula el precio con IVA incluido.\n",
        "\n",
        "  Args:\n",
        "    precio: El precio sin IVA.\n",
        "    porcentaje_iva: El porcentaje de IVA a aplicar (por defecto, 21%).\n",
        "\n",
        "  Returns:\n",
        "    El precio con IVA incluido.\n",
        "  \"\"\"\n",
        "  return precio + calcular_iva(precio, porcentaje_iva)"
      ],
      "metadata": {
        "id": "BLs2uF5XnNl9"
      },
      "execution_count": null,
      "outputs": []
    },
    {
      "cell_type": "markdown",
      "source": [
        "#CALCULAR IVA\n",
        "##Calculo de un valor determinado\n"
      ],
      "metadata": {
        "id": "folHo5qXnV60"
      }
    },
    {
      "cell_type": "code",
      "source": [
        "# prompt: calculadora\n",
        "\n",
        "precio = 100  #@param {type:\"number\"}\n",
        "porcentaje_iva = 21 #@param {type:\"number\"}\n",
        "\n",
        "iva = calcular_iva(precio, porcentaje_iva)\n",
        "precio_con_iva = calcular_precio_con_iva(precio, porcentaje_iva)\n",
        "\n",
        "print(f\"El IVA de {precio} es: {iva}\")\n",
        "print(f\"El precio con IVA incluido es: {precio_con_iva}\")\n"
      ],
      "metadata": {
        "id": "27Diq3sRnmDM"
      },
      "execution_count": null,
      "outputs": []
    },
    {
      "cell_type": "markdown",
      "source": [
        "#CALCULADORA\n",
        "##Sistema calculadora"
      ],
      "metadata": {
        "id": "2jWbKJrZntH1"
      }
    }
  ]
}